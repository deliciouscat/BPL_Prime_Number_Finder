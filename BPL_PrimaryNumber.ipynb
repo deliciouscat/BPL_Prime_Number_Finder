{
 "cells": [
  {
   "cell_type": "code",
   "execution_count": 1,
   "metadata": {},
   "outputs": [],
   "source": [
    "import tkinter as tk\n",
    "from tkinter import ttk\n",
    "from tkinter import messagebox"
   ]
  },
  {
   "cell_type": "code",
   "execution_count": 2,
   "metadata": {},
   "outputs": [],
   "source": [
    "title = \"BPL - Primary Number Finder\"\n",
    "\n",
    "def straight_output(x) :\n",
    "    return \"result : \" + str(x)"
   ]
  },
  {
   "cell_type": "code",
   "execution_count": 3,
   "metadata": {},
   "outputs": [],
   "source": [
    "root = tk.Tk()     # 루트(가장 상위의 부모위젯) 지정\n",
    "root.title(title)\n",
    "root.geometry(\"195x210\")\n",
    "\n",
    "lbl = tk.Label(root, text=\"Select how to find primary number\")   # (부모위젯, 성분)\n",
    "lbl.grid(column=0, row=0)      # .grid : 위젯을 위치지정해서 부모위젯에 패킹한다\n",
    "\n",
    "\n",
    "output = tk.Text(root, width=25, height=10)\n",
    "output.grid(column=0, row=4)\n",
    "\n",
    "num = tk.IntVar()\n",
    "numin = tk.Entry(root, textvariable=num)\n",
    "numin.grid(column=0,row=2)\n",
    "\n",
    "model_select = tk.StringVar()\n",
    "def run_model() :\n",
    "    if model_select.get()=='model_1' :\n",
    "        result = straight_output(num.get())\n",
    "    output.insert(tk.CURRENT,\"Input number : \"+ str(num.get()) +\"\\n\")\n",
    "    output.insert(tk.CURRENT,result)\n",
    "\n",
    "search_engines = ttk.Combobox(root, width=17, textvariable=model_select)    # 콤보박스로 어떤 모델로 소수를 찾을지 선택\n",
    "# 선택한 사항을 strv에 저장하여 반환한다.\n",
    "search_engines['values'] = ('model_1', 'model_2', 'model_3')\n",
    "search_engines.grid(column=0, row=1)\n",
    "search_engines.current(0)     # 초기 선택값\n",
    "\n",
    "btn = tk.Button(root, text=\"Search\", command=run_model)\n",
    "btn.grid(column=0, row=3)\n",
    "\n",
    "\n",
    "root.mainloop()"
   ]
  },
  {
   "cell_type": "code",
   "execution_count": 34,
   "metadata": {},
   "outputs": [
    {
     "data": {
      "text/plain": [
       "<tkinter.StringVar at 0x2432da1cfd0>"
      ]
     },
     "execution_count": 34,
     "metadata": {},
     "output_type": "execute_result"
    }
   ],
   "source": [
    "output.showinfo"
   ]
  }
 ],
 "metadata": {
  "kernelspec": {
   "display_name": "Python 3",
   "language": "python",
   "name": "python3"
  },
  "language_info": {
   "codemirror_mode": {
    "name": "ipython",
    "version": 3
   },
   "file_extension": ".py",
   "mimetype": "text/x-python",
   "name": "python",
   "nbconvert_exporter": "python",
   "pygments_lexer": "ipython3",
   "version": "3.6.12"
  }
 },
 "nbformat": 4,
 "nbformat_minor": 4
}
