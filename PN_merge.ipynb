{
 "cells": [
  {
   "cell_type": "code",
   "execution_count": 1,
   "metadata": {},
   "outputs": [],
   "source": [
    "import tkinter as tk\n",
    "from tkinter import ttk\n",
    "from tkinter import messagebox"
   ]
  },
  {
   "cell_type": "code",
   "execution_count": 2,
   "metadata": {},
   "outputs": [],
   "source": [
    "title = \"BPL - Primary Number Finder\"\n",
    "\n",
    "def straight_output(x) :\n",
    "    return \"result : \" + str(x)\n",
    "\n",
    "def primefinder(numbers) :\n",
    "    is_primes=[] #소수를 담을 리스트\n",
    "    isnt_primes=[] #소수가 아닌 수를 담을 리스트\n",
    "\n",
    "    for n in numbers:\n",
    "        if n<=1:\n",
    "            isnt_primes.append(n)\n",
    "        elif n>=2:\n",
    "            for i in range(2,n):\n",
    "                if n%i==0:\n",
    "                    isnt_primes.append(n)\n",
    "                    break\n",
    "\n",
    "    for n in numbers:\n",
    "        if not n in isnt_primes:\n",
    "            is_primes.append(n)\n",
    "    return is_primes"
   ]
  },
  {
   "cell_type": "code",
   "execution_count": 3,
   "metadata": {},
   "outputs": [
    {
     "name": "stderr",
     "output_type": "stream",
     "text": [
      "Exception in Tkinter callback\n",
      "Traceback (most recent call last):\n",
      "  File \"C:\\Users\\Sunmo Koo\\Anaconda3\\lib\\tkinter\\__init__.py\", line 1705, in __call__\n",
      "    return self.func(*args)\n",
      "  File \"<ipython-input-3-2c549a38cff9>\", line 26, in run_model\n",
      "    output.insert(tk.CURRENT,result + \"\\n\")\n",
      "UnboundLocalError: local variable 'result' referenced before assignment\n"
     ]
    }
   ],
   "source": [
    "root = tk.Tk()     # 루트(가장 상위의 부모위젯) 지정\n",
    "root.title(title)\n",
    "root.geometry(\"195x230\")\n",
    "\n",
    "lbl = tk.Label(root, text=\"Select how to find primary number\")   # (부모위젯, 성분)\n",
    "lbl.grid(column=0, row=0)      # .grid : 위젯을 위치지정해서 부모위젯에 패킹한다\n",
    "\n",
    "\n",
    "output = tk.Text(root, width=25, height=10)       # 출력창\n",
    "output.grid(column=0, row=4)\n",
    "\n",
    "num = tk.IntVar()\n",
    "numin = tk.Entry(root, textvariable=num)          # 입력창\n",
    "numin.grid(column=0,row=2)\n",
    "\n",
    "model_select = tk.StringVar()         # 사용하고자 하는 기능을 tkinter String으로 받는다.\n",
    "def run_model() :\n",
    "    if model_select.get()=='Output test' :        # ~.get : tkinter string의 값을 python string으로 변환\n",
    "        result = straight_output(num.get())         # 받아들인 수를 모델에 대입.\n",
    "    elif model_select.get()=='Prime finder' :\n",
    "        result = primefinder(range(num.get()))\n",
    "        result = str(result)\n",
    "    \n",
    "    output.delete('1.0','end')      #출력창의 기존 내용 제거\n",
    "    output.insert(tk.CURRENT,\"Input number : \"+ str(num.get()) +\"\\n\")  # input에 대한 정보\n",
    "    output.insert(tk.CURRENT,result + \"\\n\")   # 제시한 답.\n",
    "\n",
    "search_engines = ttk.Combobox(root, width=17, textvariable=model_select)    # 콤보박스로 어떤 모델로 소수를 찾을지 선택\n",
    "# 선택한 사항을 strv에 저장하여 반환한다.\n",
    "search_engines['values'] = ('Output test', 'Prime finder', 'model_3')\n",
    "search_engines.grid(column=0, row=1)\n",
    "search_engines.current(0)     # 초기 선택값\n",
    "\n",
    "btn = tk.Button(root, text=\"Search\", command=run_model)    # 검색버튼\n",
    "btn.grid(column=0, row=3)\n",
    "\n",
    "\n",
    "root.mainloop()    # 창 열기"
   ]
  },
  {
   "cell_type": "code",
   "execution_count": 34,
   "metadata": {},
   "outputs": [
    {
     "data": {
      "text/plain": [
       "<tkinter.StringVar at 0x2432da1cfd0>"
      ]
     },
     "execution_count": 34,
     "metadata": {},
     "output_type": "execute_result"
    }
   ],
   "source": [
    "output.showinfo"
   ]
  }
 ],
 "metadata": {
  "kernelspec": {
   "display_name": "Python 3",
   "language": "python",
   "name": "python3"
  },
  "language_info": {
   "codemirror_mode": {
    "name": "ipython",
    "version": 3
   },
   "file_extension": ".py",
   "mimetype": "text/x-python",
   "name": "python",
   "nbconvert_exporter": "python",
   "pygments_lexer": "ipython3",
   "version": "3.6.12"
  }
 },
 "nbformat": 4,
 "nbformat_minor": 4
}
